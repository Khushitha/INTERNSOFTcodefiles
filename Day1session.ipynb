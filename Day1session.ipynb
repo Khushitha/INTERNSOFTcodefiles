{
  "nbformat": 4,
  "nbformat_minor": 0,
  "metadata": {
    "colab": {
      "name": "Day1session.ipynb",
      "provenance": [],
      "authorship_tag": "ABX9TyP6zM72XSoxiivZzOVgaMfY",
      "include_colab_link": true
    },
    "kernelspec": {
      "name": "python3",
      "display_name": "Python 3"
    }
  },
  "cells": [
    {
      "cell_type": "markdown",
      "metadata": {
        "id": "view-in-github",
        "colab_type": "text"
      },
      "source": [
        "<a href=\"https://colab.research.google.com/github/Khushitha/INTERNSOFTcodefiles/blob/main/Day1session.ipynb\" target=\"_parent\"><img src=\"https://colab.research.google.com/assets/colab-badge.svg\" alt=\"Open In Colab\"/></a>"
      ]
    },
    {
      "cell_type": "markdown",
      "metadata": {
        "id": "jQojGT6HR3Nl"
      },
      "source": [
        "**integer**"
      ]
    },
    {
      "cell_type": "code",
      "metadata": {
        "colab": {
          "base_uri": "https://localhost:8080/"
        },
        "id": "CFqPn6TGLs4r",
        "outputId": "2bc55912-a6da-4ef8-b475-2282a48e213e"
      },
      "source": [
        "# integers\r\n",
        "x = 1\r\n",
        "type(x)"
      ],
      "execution_count": 1,
      "outputs": [
        {
          "output_type": "execute_result",
          "data": {
            "text/plain": [
              "int"
            ]
          },
          "metadata": {
            "tags": []
          },
          "execution_count": 1
        }
      ]
    },
    {
      "cell_type": "markdown",
      "metadata": {
        "id": "PWBhGTU3R7ux"
      },
      "source": [
        "**float**"
      ]
    },
    {
      "cell_type": "code",
      "metadata": {
        "colab": {
          "base_uri": "https://localhost:8080/"
        },
        "id": "l9X4TvEZMq3e",
        "outputId": "a156dfac-9f28-49db-968a-8d7c1aaa9f83"
      },
      "source": [
        "# float\r\n",
        "x = 1.0\r\n",
        "type(x)"
      ],
      "execution_count": 2,
      "outputs": [
        {
          "output_type": "execute_result",
          "data": {
            "text/plain": [
              "float"
            ]
          },
          "metadata": {
            "tags": []
          },
          "execution_count": 2
        }
      ]
    },
    {
      "cell_type": "markdown",
      "metadata": {
        "id": "WUq5N1JvR-8T"
      },
      "source": [
        "**boolean**"
      ]
    },
    {
      "cell_type": "code",
      "metadata": {
        "colab": {
          "base_uri": "https://localhost:8080/"
        },
        "id": "xiwJXJdQMrJ4",
        "outputId": "eed0fcf1-fd09-4eaa-c0f1-af60acccdbb5"
      },
      "source": [
        "# boolean\r\n",
        "b1 = True\r\n",
        "b2 = False\r\n",
        "\r\n",
        "type(b1)"
      ],
      "execution_count": 3,
      "outputs": [
        {
          "output_type": "execute_result",
          "data": {
            "text/plain": [
              "bool"
            ]
          },
          "metadata": {
            "tags": []
          },
          "execution_count": 3
        }
      ]
    },
    {
      "cell_type": "markdown",
      "metadata": {
        "id": "ZhRyX0aCSBt_"
      },
      "source": [
        "**string**"
      ]
    },
    {
      "cell_type": "code",
      "metadata": {
        "colab": {
          "base_uri": "https://localhost:8080/"
        },
        "id": "Wt4TxZ8GMrX8",
        "outputId": "dd58d2c5-d46d-4fca-97a2-09af01f45d22"
      },
      "source": [
        "# string\r\n",
        "name1 = 'your name'\r\n",
        "type(name1)"
      ],
      "execution_count": 4,
      "outputs": [
        {
          "output_type": "execute_result",
          "data": {
            "text/plain": [
              "str"
            ]
          },
          "metadata": {
            "tags": []
          },
          "execution_count": 4
        }
      ]
    },
    {
      "cell_type": "markdown",
      "metadata": {
        "id": "dgeMf3z9SJNz"
      },
      "source": [
        "**complex**"
      ]
    },
    {
      "cell_type": "code",
      "metadata": {
        "colab": {
          "base_uri": "https://localhost:8080/"
        },
        "id": "nzM7yQN9Mrna",
        "outputId": "7b0e0c1e-27da-48a9-b580-11969c2c2f26"
      },
      "source": [
        "# complex numbers: note the use of `j` to specify the imaginary part\r\n",
        "x = 1.0 - 2.0j\r\n",
        "type(x)"
      ],
      "execution_count": 5,
      "outputs": [
        {
          "output_type": "execute_result",
          "data": {
            "text/plain": [
              "complex"
            ]
          },
          "metadata": {
            "tags": []
          },
          "execution_count": 5
        }
      ]
    },
    {
      "cell_type": "code",
      "metadata": {
        "colab": {
          "base_uri": "https://localhost:8080/"
        },
        "id": "gYv1VvusNQW2",
        "outputId": "135f219c-a710-434a-ac0c-ca50dcfbfadf"
      },
      "source": [
        "print(x)"
      ],
      "execution_count": 6,
      "outputs": [
        {
          "output_type": "stream",
          "text": [
            "(1-2j)\n"
          ],
          "name": "stdout"
        }
      ]
    },
    {
      "cell_type": "code",
      "metadata": {
        "colab": {
          "base_uri": "https://localhost:8080/"
        },
        "id": "dNUdmtLfNhkL",
        "outputId": "ddd80b72-b98d-47e7-8416-1df2bc99d673"
      },
      "source": [
        "print(x.real, x.imag)"
      ],
      "execution_count": 7,
      "outputs": [
        {
          "output_type": "stream",
          "text": [
            "1.0 -2.0\n"
          ],
          "name": "stdout"
        }
      ]
    },
    {
      "cell_type": "markdown",
      "metadata": {
        "id": "1l46mgYhSQCC"
      },
      "source": [
        "**variables**"
      ]
    },
    {
      "cell_type": "code",
      "metadata": {
        "colab": {
          "base_uri": "https://localhost:8080/"
        },
        "id": "y_xhMKFQN7Rb",
        "outputId": "bbe93b60-81b8-4461-d3b2-f9e4bb9a1697"
      },
      "source": [
        "tenth = 10\r\n",
        "two = 2\r\n",
        "print(tenth)\r\n",
        "two"
      ],
      "execution_count": 8,
      "outputs": [
        {
          "output_type": "stream",
          "text": [
            "10\n"
          ],
          "name": "stdout"
        },
        {
          "output_type": "execute_result",
          "data": {
            "text/plain": [
              "2"
            ]
          },
          "metadata": {
            "tags": []
          },
          "execution_count": 8
        }
      ]
    },
    {
      "cell_type": "markdown",
      "metadata": {
        "id": "bWYShg4QSdMy"
      },
      "source": [
        "**dynamic** **typing**"
      ]
    },
    {
      "cell_type": "code",
      "metadata": {
        "colab": {
          "base_uri": "https://localhost:8080/"
        },
        "id": "HlBKAKWVN7VC",
        "outputId": "6636a311-209c-4234-94e5-deaedd85af12"
      },
      "source": [
        "ten = 10\r\n",
        "ten"
      ],
      "execution_count": 9,
      "outputs": [
        {
          "output_type": "execute_result",
          "data": {
            "text/plain": [
              "10"
            ]
          },
          "metadata": {
            "tags": []
          },
          "execution_count": 9
        }
      ]
    },
    {
      "cell_type": "code",
      "metadata": {
        "colab": {
          "base_uri": "https://localhost:8080/",
          "height": 35
        },
        "id": "FNsjWNM9N7m2",
        "outputId": "3d7bff45-9107-4d6e-d7b2-218585c80adb"
      },
      "source": [
        "ten = 'ten'\r\n",
        "ten"
      ],
      "execution_count": 10,
      "outputs": [
        {
          "output_type": "execute_result",
          "data": {
            "application/vnd.google.colaboratory.intrinsic+json": {
              "type": "string"
            },
            "text/plain": [
              "'ten'"
            ]
          },
          "metadata": {
            "tags": []
          },
          "execution_count": 10
        }
      ]
    },
    {
      "cell_type": "markdown",
      "metadata": {
        "id": "OdyhUQtvSptu"
      },
      "source": [
        "**strong** **typing**"
      ]
    },
    {
      "cell_type": "code",
      "metadata": {
        "colab": {
          "base_uri": "https://localhost:8080/",
          "height": 166
        },
        "id": "jVZZgUbsN7tc",
        "outputId": "5ea765f9-01f0-463e-e748-098a387f41ed"
      },
      "source": [
        "'Day ' + 1"
      ],
      "execution_count": 11,
      "outputs": [
        {
          "output_type": "error",
          "ename": "TypeError",
          "evalue": "ignored",
          "traceback": [
            "\u001b[0;31m---------------------------------------------------------------------------\u001b[0m",
            "\u001b[0;31mTypeError\u001b[0m                                 Traceback (most recent call last)",
            "\u001b[0;32m<ipython-input-11-643fe001d103>\u001b[0m in \u001b[0;36m<module>\u001b[0;34m()\u001b[0m\n\u001b[0;32m----> 1\u001b[0;31m \u001b[0;34m'Day '\u001b[0m \u001b[0;34m+\u001b[0m \u001b[0;36m1\u001b[0m\u001b[0;34m\u001b[0m\u001b[0;34m\u001b[0m\u001b[0m\n\u001b[0m",
            "\u001b[0;31mTypeError\u001b[0m: must be str, not int"
          ]
        }
      ]
    },
    {
      "cell_type": "code",
      "metadata": {
        "colab": {
          "base_uri": "https://localhost:8080/",
          "height": 35
        },
        "id": "S0itoRgiN7w0",
        "outputId": "c60c28c2-d15d-4fad-98e7-088a84854bcc"
      },
      "source": [
        "'Day ' + str(1)"
      ],
      "execution_count": 12,
      "outputs": [
        {
          "output_type": "execute_result",
          "data": {
            "application/vnd.google.colaboratory.intrinsic+json": {
              "type": "string"
            },
            "text/plain": [
              "'Day 1'"
            ]
          },
          "metadata": {
            "tags": []
          },
          "execution_count": 12
        }
      ]
    },
    {
      "cell_type": "markdown",
      "metadata": {
        "id": "JJ_4GW2JTAOt"
      },
      "source": [
        "**Simple** **Expressions**\r\n",
        "**Boolean** **Evaluation**"
      ]
    },
    {
      "cell_type": "code",
      "metadata": {
        "colab": {
          "base_uri": "https://localhost:8080/"
        },
        "id": "uzTRjb8tN7z-",
        "outputId": "b2c35ef3-8db6-45fa-dbeb-97036b825076"
      },
      "source": [
        "True and True"
      ],
      "execution_count": 13,
      "outputs": [
        {
          "output_type": "execute_result",
          "data": {
            "text/plain": [
              "True"
            ]
          },
          "metadata": {
            "tags": []
          },
          "execution_count": 13
        }
      ]
    },
    {
      "cell_type": "code",
      "metadata": {
        "colab": {
          "base_uri": "https://localhost:8080/"
        },
        "id": "u-D-g6FdN74B",
        "outputId": "88ae3a89-30d4-450e-87f3-5273915b8ad3"
      },
      "source": [
        "True or False"
      ],
      "execution_count": 14,
      "outputs": [
        {
          "output_type": "execute_result",
          "data": {
            "text/plain": [
              "True"
            ]
          },
          "metadata": {
            "tags": []
          },
          "execution_count": 14
        }
      ]
    },
    {
      "cell_type": "code",
      "metadata": {
        "colab": {
          "base_uri": "https://localhost:8080/"
        },
        "id": "qAnOB5WwN77M",
        "outputId": "815300ab-784a-4f9d-d481-ee9591da94dd"
      },
      "source": [
        "not True"
      ],
      "execution_count": 15,
      "outputs": [
        {
          "output_type": "execute_result",
          "data": {
            "text/plain": [
              "False"
            ]
          },
          "metadata": {
            "tags": []
          },
          "execution_count": 15
        }
      ]
    },
    {
      "cell_type": "code",
      "metadata": {
        "colab": {
          "base_uri": "https://localhost:8080/"
        },
        "id": "Ljgvo94oN782",
        "outputId": "e87b27e4-c063-479d-960a-843000a4cfdc"
      },
      "source": [
        "not False"
      ],
      "execution_count": 16,
      "outputs": [
        {
          "output_type": "execute_result",
          "data": {
            "text/plain": [
              "True"
            ]
          },
          "metadata": {
            "tags": []
          },
          "execution_count": 16
        }
      ]
    },
    {
      "cell_type": "code",
      "metadata": {
        "colab": {
          "base_uri": "https://localhost:8080/"
        },
        "id": "KRi3cCAiO5Fv",
        "outputId": "119f5cdf-7d0b-4147-f90f-8d661da946c5"
      },
      "source": [
        "True is True"
      ],
      "execution_count": 18,
      "outputs": [
        {
          "output_type": "execute_result",
          "data": {
            "text/plain": [
              "True"
            ]
          },
          "metadata": {
            "tags": []
          },
          "execution_count": 18
        }
      ]
    },
    {
      "cell_type": "code",
      "metadata": {
        "colab": {
          "base_uri": "https://localhost:8080/"
        },
        "id": "UtguTP8HO5Kg",
        "outputId": "418c668a-e0c5-4d72-ab9b-f1a052d653b4"
      },
      "source": [
        "True is False"
      ],
      "execution_count": 19,
      "outputs": [
        {
          "output_type": "execute_result",
          "data": {
            "text/plain": [
              "False"
            ]
          },
          "metadata": {
            "tags": []
          },
          "execution_count": 19
        }
      ]
    },
    {
      "cell_type": "code",
      "metadata": {
        "colab": {
          "base_uri": "https://localhost:8080/"
        },
        "id": "0g_VHra1O5T1",
        "outputId": "793e8783-8aab-4973-b0f3-76246f03bb53"
      },
      "source": [
        "'a' is 'a'"
      ],
      "execution_count": 20,
      "outputs": [
        {
          "output_type": "execute_result",
          "data": {
            "text/plain": [
              "True"
            ]
          },
          "metadata": {
            "tags": []
          },
          "execution_count": 20
        }
      ]
    },
    {
      "cell_type": "markdown",
      "metadata": {
        "id": "GINQjgYwTR_s"
      },
      "source": [
        "**Branching** (**if** / **elif** / **else**)**bold text**"
      ]
    },
    {
      "cell_type": "code",
      "metadata": {
        "colab": {
          "base_uri": "https://localhost:8080/"
        },
        "id": "3fhRDSK2O5Ww",
        "outputId": "7d4f3caf-7ea2-4b17-c2d9-bef11c8aec32"
      },
      "source": [
        "i = 3\r\n",
        "if i < 3:\r\n",
        "    print('less than 3')\r\n",
        "elif i < 5:\r\n",
        "    print('less than 5')\r\n",
        "else:\r\n",
        "    print('5 or more')\r\n"
      ],
      "execution_count": 21,
      "outputs": [
        {
          "output_type": "stream",
          "text": [
            "less than 5\n"
          ],
          "name": "stdout"
        }
      ]
    },
    {
      "cell_type": "code",
      "metadata": {
        "id": "M6OImfuYN8Av"
      },
      "source": [
        ""
      ],
      "execution_count": 43,
      "outputs": []
    },
    {
      "cell_type": "markdown",
      "metadata": {
        "id": "XPoU0OQXTtCC"
      },
      "source": [
        "**Advanced** **Types**: **Containers**\r\n",
        "**Lists**"
      ]
    },
    {
      "cell_type": "code",
      "metadata": {
        "colab": {
          "base_uri": "https://localhost:8080/"
        },
        "id": "KiMhT65cP37c",
        "outputId": "b25266e4-1d66-4064-dd0c-2584ca890790"
      },
      "source": [
        "l = []\r\n",
        "l"
      ],
      "execution_count": 22,
      "outputs": [
        {
          "output_type": "execute_result",
          "data": {
            "text/plain": [
              "[]"
            ]
          },
          "metadata": {
            "tags": []
          },
          "execution_count": 22
        }
      ]
    },
    {
      "cell_type": "code",
      "metadata": {
        "colab": {
          "base_uri": "https://localhost:8080/"
        },
        "id": "iguB-kAPP3-n",
        "outputId": "956b56bc-a528-485c-cec8-85b95cc998c0"
      },
      "source": [
        "l = list()\r\n",
        "l"
      ],
      "execution_count": 23,
      "outputs": [
        {
          "output_type": "execute_result",
          "data": {
            "text/plain": [
              "[]"
            ]
          },
          "metadata": {
            "tags": []
          },
          "execution_count": 23
        }
      ]
    },
    {
      "cell_type": "code",
      "metadata": {
        "colab": {
          "base_uri": "https://localhost:8080/"
        },
        "id": "amtaAEgdP4CB",
        "outputId": "eece75cf-16c3-4899-de4b-a6a9f7f3365d"
      },
      "source": [
        "l = ['a', 'b', 'c']\r\n",
        "print(l)\r\n",
        "type(l)"
      ],
      "execution_count": 24,
      "outputs": [
        {
          "output_type": "stream",
          "text": [
            "['a', 'b', 'c']\n"
          ],
          "name": "stdout"
        },
        {
          "output_type": "execute_result",
          "data": {
            "text/plain": [
              "list"
            ]
          },
          "metadata": {
            "tags": []
          },
          "execution_count": 24
        }
      ]
    },
    {
      "cell_type": "code",
      "metadata": {
        "colab": {
          "base_uri": "https://localhost:8080/"
        },
        "id": "gJPQugZTP4FE",
        "outputId": "65c92663-882f-422c-edec-db29bf70f8e9"
      },
      "source": [
        "l = ['a',6]\r\n",
        "l"
      ],
      "execution_count": 25,
      "outputs": [
        {
          "output_type": "execute_result",
          "data": {
            "text/plain": [
              "['a', 6]"
            ]
          },
          "metadata": {
            "tags": []
          },
          "execution_count": 25
        }
      ]
    },
    {
      "cell_type": "code",
      "metadata": {
        "colab": {
          "base_uri": "https://localhost:8080/"
        },
        "id": "mvoQ0nc2P4Id",
        "outputId": "8802b42e-e9cd-4311-f42b-ea8a5cee2fad"
      },
      "source": [
        "l2 = list(l)\r\n",
        "l2\r\n"
      ],
      "execution_count": 26,
      "outputs": [
        {
          "output_type": "execute_result",
          "data": {
            "text/plain": [
              "['a', 6]"
            ]
          },
          "metadata": {
            "tags": []
          },
          "execution_count": 26
        }
      ]
    },
    {
      "cell_type": "code",
      "metadata": {
        "colab": {
          "base_uri": "https://localhost:8080/"
        },
        "id": "r7pIerQAP4Ls",
        "outputId": "df408d0d-b7ca-4e47-d3ac-94b35b4520e2"
      },
      "source": [
        "list('abcdef')"
      ],
      "execution_count": 27,
      "outputs": [
        {
          "output_type": "execute_result",
          "data": {
            "text/plain": [
              "['a', 'b', 'c', 'd', 'e', 'f']"
            ]
          },
          "metadata": {
            "tags": []
          },
          "execution_count": 27
        }
      ]
    },
    {
      "cell_type": "code",
      "metadata": {
        "colab": {
          "base_uri": "https://localhost:8080/"
        },
        "id": "WiEgXqMGP4On",
        "outputId": "634b6d68-1637-4c97-8358-091d83d21bc0"
      },
      "source": [
        "l = [1,2]\r\n",
        "print(l)\r\n",
        "l.append('b')\r\n",
        "print(l)\r\n",
        "l.append('c')\r\n",
        "print(l)\r\n",
        "l.insert(1, 56)\r\n",
        "l"
      ],
      "execution_count": 28,
      "outputs": [
        {
          "output_type": "stream",
          "text": [
            "[1, 2]\n",
            "[1, 2, 'b']\n",
            "[1, 2, 'b', 'c']\n"
          ],
          "name": "stdout"
        },
        {
          "output_type": "execute_result",
          "data": {
            "text/plain": [
              "[1, 56, 2, 'b', 'c']"
            ]
          },
          "metadata": {
            "tags": []
          },
          "execution_count": 28
        }
      ]
    },
    {
      "cell_type": "code",
      "metadata": {
        "colab": {
          "base_uri": "https://localhost:8080/"
        },
        "id": "BtEPZSqRP4R8",
        "outputId": "c21f3a31-a83d-454e-cfd0-60f88274adb2"
      },
      "source": [
        "for i in l:\r\n",
        "    print(i)"
      ],
      "execution_count": 29,
      "outputs": [
        {
          "output_type": "stream",
          "text": [
            "1\n",
            "56\n",
            "2\n",
            "b\n",
            "c\n"
          ],
          "name": "stdout"
        }
      ]
    },
    {
      "cell_type": "markdown",
      "metadata": {
        "id": "qnCjcPBUUOfr"
      },
      "source": [
        "**For** **loop**"
      ]
    },
    {
      "cell_type": "code",
      "metadata": {
        "colab": {
          "base_uri": "https://localhost:8080/"
        },
        "id": "72QAwHT2QTe1",
        "outputId": "ae56b7d2-44fa-41e6-adf5-978a9fab5658"
      },
      "source": [
        "# Program to find the sum of all numbers stored in a list\r\n",
        "\r\n",
        "# List of numbers\r\n",
        "numbers = [6, 5, 3, 8, 4, 2, 5, 4,9]\r\n",
        "\r\n",
        "# variable to store the sum\r\n",
        "sum = 0\r\n",
        "\r\n",
        "# iterate over the list\r\n",
        "for i in numbers:\r\n",
        "    sum = sum + i\r\n",
        "\r\n",
        "# Output: The sum is 48\r\n",
        "print(\"The sum is\", sum)\r\n",
        "sum\r\n"
      ],
      "execution_count": 30,
      "outputs": [
        {
          "output_type": "stream",
          "text": [
            "The sum is 46\n"
          ],
          "name": "stdout"
        },
        {
          "output_type": "execute_result",
          "data": {
            "text/plain": [
              "46"
            ]
          },
          "metadata": {
            "tags": []
          },
          "execution_count": 30
        }
      ]
    },
    {
      "cell_type": "markdown",
      "metadata": {
        "id": "cSZ_2R3HUV_a"
      },
      "source": [
        "**for** **loop** **with** **else**"
      ]
    },
    {
      "cell_type": "code",
      "metadata": {
        "colab": {
          "base_uri": "https://localhost:8080/"
        },
        "id": "cp1NuMiAQThw",
        "outputId": "2cfa199d-f197-42a1-e479-58f71de61d4a"
      },
      "source": [
        "digits = [0, 1, 5]\r\n",
        "\r\n",
        "for i in digits:\r\n",
        "    print(i)\r\n",
        "else:\r\n",
        "    print(\"No items left.\")"
      ],
      "execution_count": 31,
      "outputs": [
        {
          "output_type": "stream",
          "text": [
            "0\n",
            "1\n",
            "5\n",
            "No items left.\n"
          ],
          "name": "stdout"
        }
      ]
    },
    {
      "cell_type": "markdown",
      "metadata": {
        "id": "PhUiK5TCUezs"
      },
      "source": [
        "**Wh**ile **loop**"
      ]
    },
    {
      "cell_type": "code",
      "metadata": {
        "colab": {
          "base_uri": "https://localhost:8080/"
        },
        "id": "EAOm9z6oQTk_",
        "outputId": "e08cae37-ce3a-481c-b44f-9e47be78e205"
      },
      "source": [
        "# Program to add natural\r\n",
        "# numbers upto \r\n",
        "# sum = 1+2+3+...+n\r\n",
        "\r\n",
        "# To take input from the user,\r\n",
        "n = int(input(\"Enter n: \"))\r\n",
        "\r\n",
        "\r\n",
        "# initialize sum and counter\r\n",
        "sum = 0\r\n",
        "i = 1\r\n",
        "\r\n",
        "while i <= n:\r\n",
        "    sum = sum + i\r\n",
        "    i = i+1    # update counter\r\n",
        "\r\n",
        "# print the sum\r\n",
        "print(\"The sum is\", sum)"
      ],
      "execution_count": 32,
      "outputs": [
        {
          "output_type": "stream",
          "text": [
            "Enter n: 3\n",
            "The sum is 6\n"
          ],
          "name": "stdout"
        }
      ]
    },
    {
      "cell_type": "markdown",
      "metadata": {
        "id": "Bu226wTDUrCx"
      },
      "source": [
        "**The range()** **function**"
      ]
    },
    {
      "cell_type": "code",
      "metadata": {
        "colab": {
          "base_uri": "https://localhost:8080/"
        },
        "id": "KnfSnzf9QToQ",
        "outputId": "ad280f0a-9805-4d9a-d8ec-3575ef185ded"
      },
      "source": [
        "print(range(10))\r\n"
      ],
      "execution_count": 33,
      "outputs": [
        {
          "output_type": "stream",
          "text": [
            "range(0, 10)\n"
          ],
          "name": "stdout"
        }
      ]
    },
    {
      "cell_type": "code",
      "metadata": {
        "colab": {
          "base_uri": "https://localhost:8080/"
        },
        "id": "LucER0KfQy0d",
        "outputId": "a4f0a3e6-5570-46cf-c31c-d7b1be13f6e6"
      },
      "source": [
        "print(list(range(10)))"
      ],
      "execution_count": 34,
      "outputs": [
        {
          "output_type": "stream",
          "text": [
            "[0, 1, 2, 3, 4, 5, 6, 7, 8, 9]\n"
          ],
          "name": "stdout"
        }
      ]
    },
    {
      "cell_type": "code",
      "metadata": {
        "colab": {
          "base_uri": "https://localhost:8080/"
        },
        "id": "yuVbLtzfQ4js",
        "outputId": "09befc16-e9b3-4593-ce75-ead40dce40ab"
      },
      "source": [
        "print(list(range(2, 8)))"
      ],
      "execution_count": 35,
      "outputs": [
        {
          "output_type": "stream",
          "text": [
            "[2, 3, 4, 5, 6, 7]\n"
          ],
          "name": "stdout"
        }
      ]
    },
    {
      "cell_type": "code",
      "metadata": {
        "colab": {
          "base_uri": "https://localhost:8080/"
        },
        "id": "fxWw48zaQ-S6",
        "outputId": "c466e471-69d9-4c5f-91f9-c1d632179779"
      },
      "source": [
        "print(list(range(2, 20, 5)))"
      ],
      "execution_count": 36,
      "outputs": [
        {
          "output_type": "stream",
          "text": [
            "[2, 7, 12, 17]\n"
          ],
          "name": "stdout"
        }
      ]
    },
    {
      "cell_type": "code",
      "metadata": {
        "colab": {
          "base_uri": "https://localhost:8080/"
        },
        "id": "DVaI3VndRBNB",
        "outputId": "208019a8-beb0-496b-80e5-d2fff743a897"
      },
      "source": [
        "# Program to iterate through a list using indexing\r\n",
        "\r\n",
        "genre = ['pop', 'rock', 'jazz','sapna']\r\n",
        "\r\n",
        "# iterate over the list using index\r\n",
        "for i in range(len(genre)):\r\n",
        "    print(\"I like\", genre[i])"
      ],
      "execution_count": 37,
      "outputs": [
        {
          "output_type": "stream",
          "text": [
            "I like pop\n",
            "I like rock\n",
            "I like jazz\n",
            "I like sapna\n"
          ],
          "name": "stdout"
        }
      ]
    },
    {
      "cell_type": "markdown",
      "metadata": {
        "id": "xETJgfctVBwu"
      },
      "source": [
        "**break**"
      ]
    },
    {
      "cell_type": "code",
      "metadata": {
        "colab": {
          "base_uri": "https://localhost:8080/"
        },
        "id": "QS2IzNi6RDyd",
        "outputId": "e8245ce6-5111-474b-ed7f-f1f96bc8343c"
      },
      "source": [
        "# Use of break statement inside loop\r\n",
        "\r\n",
        "for val in \"HARSHITHA\":\r\n",
        "    if val == \"I\":\r\n",
        "        break\r\n",
        "    print(val)\r\n",
        "\r\n",
        "print(\"The end\")"
      ],
      "execution_count": 38,
      "outputs": [
        {
          "output_type": "stream",
          "text": [
            "H\n",
            "A\n",
            "R\n",
            "S\n",
            "H\n",
            "The end\n"
          ],
          "name": "stdout"
        }
      ]
    },
    {
      "cell_type": "markdown",
      "metadata": {
        "id": "R-r25_UrVD28"
      },
      "source": [
        "**continue**"
      ]
    },
    {
      "cell_type": "code",
      "metadata": {
        "colab": {
          "base_uri": "https://localhost:8080/"
        },
        "id": "GCGhZTDiRI9O",
        "outputId": "ed3b205f-db90-42d5-fde0-a52ad6e86eb0"
      },
      "source": [
        "# Program to show the use of continue statement inside loops\r\n",
        "\r\n",
        "for val in \"KHUSHITHA\":\r\n",
        "    if val == \"I\":\r\n",
        "        continue\r\n",
        "    print(val)\r\n",
        "\r\n",
        "print(\"The end\")"
      ],
      "execution_count": 43,
      "outputs": [
        {
          "output_type": "stream",
          "text": [
            "K\n",
            "H\n",
            "U\n",
            "S\n",
            "H\n",
            "T\n",
            "H\n",
            "A\n",
            "The end\n"
          ],
          "name": "stdout"
        }
      ]
    },
    {
      "cell_type": "code",
      "metadata": {
        "colab": {
          "base_uri": "https://localhost:8080/"
        },
        "id": "JhWadjgQROZB",
        "outputId": "a43b91d8-195f-49fe-aaea-f4e8a2cbd098"
      },
      "source": [
        "# Program to take the input string from the user.\r\n",
        "\r\n",
        "name = input(\"What is your name?\\n \")\r\n",
        "type(name)"
      ],
      "execution_count": 40,
      "outputs": [
        {
          "output_type": "stream",
          "text": [
            "What is your name?\n",
            " khushi\n"
          ],
          "name": "stdout"
        },
        {
          "output_type": "execute_result",
          "data": {
            "text/plain": [
              "str"
            ]
          },
          "metadata": {
            "tags": []
          },
          "execution_count": 40
        }
      ]
    },
    {
      "cell_type": "code",
      "metadata": {
        "colab": {
          "base_uri": "https://localhost:8080/"
        },
        "id": "hJO6Z70yRS96",
        "outputId": "bf0ca301-37e1-420b-adf1-34dbd1c65055"
      },
      "source": [
        "# Program to read integers from user\r\n",
        "\r\n",
        "age = int(input(\"What is your age? \"))\r\n",
        "print (\"Your age is: \", age)\r\n",
        "type(age)"
      ],
      "execution_count": 41,
      "outputs": [
        {
          "output_type": "stream",
          "text": [
            "What is your age? 21\n",
            "Your age is:  21\n"
          ],
          "name": "stdout"
        },
        {
          "output_type": "execute_result",
          "data": {
            "text/plain": [
              "int"
            ]
          },
          "metadata": {
            "tags": []
          },
          "execution_count": 41
        }
      ]
    },
    {
      "cell_type": "code",
      "metadata": {
        "colab": {
          "base_uri": "https://localhost:8080/"
        },
        "id": "2fFVL4fhRaLm",
        "outputId": "5293cfe9-d474-48a3-eebd-3addb1206c8a"
      },
      "source": [
        "# Let's have one more example\r\n",
        "\r\n",
        "name = input(\"What is your name? \")\r\n",
        "print (\" It was nice talking you \" + name + \"!\")\r\n",
        "age = input(\"Enter your age? \")\r\n",
        "print(\"Hey, you are already \" + age + \" years old, \" + name + \"!\")\r\n"
      ],
      "execution_count": 42,
      "outputs": [
        {
          "output_type": "stream",
          "text": [
            "What is your name? khushitha\n",
            " It was nice talking you khushitha!\n",
            "Enter your age? 21\n",
            "Hey, you are already 21 years old, khushitha!\n"
          ],
          "name": "stdout"
        }
      ]
    },
    {
      "cell_type": "code",
      "metadata": {
        "id": "BXPm5qrfRgXi"
      },
      "source": [
        ""
      ],
      "execution_count": null,
      "outputs": []
    }
  ]
}