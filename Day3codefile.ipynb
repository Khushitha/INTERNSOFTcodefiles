{
  "nbformat": 4,
  "nbformat_minor": 0,
  "metadata": {
    "colab": {
      "name": "Day3codefile.ipynb",
      "provenance": [],
      "collapsed_sections": [],
      "authorship_tag": "ABX9TyPckjCpydq3PXKrvyi2ll+B",
      "include_colab_link": true
    },
    "kernelspec": {
      "name": "python3",
      "display_name": "Python 3"
    }
  },
  "cells": [
    {
      "cell_type": "markdown",
      "metadata": {
        "id": "view-in-github",
        "colab_type": "text"
      },
      "source": [
        "<a href=\"https://colab.research.google.com/github/Khushitha/INTERNSOFTcodefiles/blob/main/Day3codefile.ipynb\" target=\"_parent\"><img src=\"https://colab.research.google.com/assets/colab-badge.svg\" alt=\"Open In Colab\"/></a>"
      ]
    },
    {
      "cell_type": "markdown",
      "metadata": {
        "id": "5HzoMphVI8cm"
      },
      "source": [
        "**constructing tuples**"
      ]
    },
    {
      "cell_type": "code",
      "metadata": {
        "id": "SzbLTs3BDOUT"
      },
      "source": [
        "# Can create a tuple with mixed types\r\n",
        "t = (1,2,3)"
      ],
      "execution_count": 1,
      "outputs": []
    },
    {
      "cell_type": "code",
      "metadata": {
        "colab": {
          "base_uri": "https://localhost:8080/"
        },
        "id": "A18DtbqCDhMS",
        "outputId": "ee580fc5-55b7-4062-bd8b-a3067f5bf6e7"
      },
      "source": [
        "# Check len just like a list\r\n",
        "len(t)"
      ],
      "execution_count": 2,
      "outputs": [
        {
          "output_type": "execute_result",
          "data": {
            "text/plain": [
              "3"
            ]
          },
          "metadata": {
            "tags": []
          },
          "execution_count": 2
        }
      ]
    },
    {
      "cell_type": "code",
      "metadata": {
        "colab": {
          "base_uri": "https://localhost:8080/"
        },
        "id": "eZYy9dU8DigX",
        "outputId": "e32aff70-0548-4387-d9eb-0caa143c308f"
      },
      "source": [
        "# Can also mix object types\r\n",
        "t = ('one',2)\r\n",
        "\r\n",
        "# Show\r\n",
        "t"
      ],
      "execution_count": 3,
      "outputs": [
        {
          "output_type": "execute_result",
          "data": {
            "text/plain": [
              "('one', 2)"
            ]
          },
          "metadata": {
            "tags": []
          },
          "execution_count": 3
        }
      ]
    },
    {
      "cell_type": "code",
      "metadata": {
        "colab": {
          "base_uri": "https://localhost:8080/",
          "height": 35
        },
        "id": "jMJaGag4DkfJ",
        "outputId": "1ab1eb05-99e1-4135-99d8-0a8cd74ccad7"
      },
      "source": [
        "# Use indexing just like we did in lists\r\n",
        "t[0]"
      ],
      "execution_count": 4,
      "outputs": [
        {
          "output_type": "execute_result",
          "data": {
            "application/vnd.google.colaboratory.intrinsic+json": {
              "type": "string"
            },
            "text/plain": [
              "'one'"
            ]
          },
          "metadata": {
            "tags": []
          },
          "execution_count": 4
        }
      ]
    },
    {
      "cell_type": "code",
      "metadata": {
        "colab": {
          "base_uri": "https://localhost:8080/"
        },
        "id": "xN-_Bkz9Dmd1",
        "outputId": "a5988aa8-521d-4a78-b381-2510320b2cbf"
      },
      "source": [
        "# Slicing just like a list\r\n",
        "t[-1]"
      ],
      "execution_count": 5,
      "outputs": [
        {
          "output_type": "execute_result",
          "data": {
            "text/plain": [
              "2"
            ]
          },
          "metadata": {
            "tags": []
          },
          "execution_count": 5
        }
      ]
    },
    {
      "cell_type": "markdown",
      "metadata": {
        "id": "3tgekoKVI18y"
      },
      "source": [
        "**basic tuple methods**"
      ]
    },
    {
      "cell_type": "code",
      "metadata": {
        "colab": {
          "base_uri": "https://localhost:8080/"
        },
        "id": "2NCogx2sDo1U",
        "outputId": "6a815d80-2d60-44db-892d-21b37a27b0af"
      },
      "source": [
        "# Use .index to enter a value and return the index\r\n",
        "t.index('one')"
      ],
      "execution_count": 6,
      "outputs": [
        {
          "output_type": "execute_result",
          "data": {
            "text/plain": [
              "0"
            ]
          },
          "metadata": {
            "tags": []
          },
          "execution_count": 6
        }
      ]
    },
    {
      "cell_type": "code",
      "metadata": {
        "colab": {
          "base_uri": "https://localhost:8080/"
        },
        "id": "ZKuYu7KuDq4O",
        "outputId": "faa791b3-6a4b-4536-b07b-482167938578"
      },
      "source": [
        "# Use .count to count the number of times a value appears\r\n",
        "t.count('one')"
      ],
      "execution_count": 7,
      "outputs": [
        {
          "output_type": "execute_result",
          "data": {
            "text/plain": [
              "1"
            ]
          },
          "metadata": {
            "tags": []
          },
          "execution_count": 7
        }
      ]
    },
    {
      "cell_type": "markdown",
      "metadata": {
        "id": "sbBlMk2fIuu1"
      },
      "source": [
        "**immutability**"
      ]
    },
    {
      "cell_type": "code",
      "metadata": {
        "colab": {
          "base_uri": "https://localhost:8080/",
          "height": 166
        },
        "id": "FBbKjfG5DtIg",
        "outputId": "5a60a2b1-d60a-462a-ddf8-c002de89c696"
      },
      "source": [
        "t[0]= 'change'"
      ],
      "execution_count": 8,
      "outputs": [
        {
          "output_type": "error",
          "ename": "TypeError",
          "evalue": "ignored",
          "traceback": [
            "\u001b[0;31m---------------------------------------------------------------------------\u001b[0m",
            "\u001b[0;31mTypeError\u001b[0m                                 Traceback (most recent call last)",
            "\u001b[0;32m<ipython-input-8-1257c0aa9edd>\u001b[0m in \u001b[0;36m<module>\u001b[0;34m()\u001b[0m\n\u001b[0;32m----> 1\u001b[0;31m \u001b[0mt\u001b[0m\u001b[0;34m[\u001b[0m\u001b[0;36m0\u001b[0m\u001b[0;34m]\u001b[0m\u001b[0;34m=\u001b[0m \u001b[0;34m'change'\u001b[0m\u001b[0;34m\u001b[0m\u001b[0;34m\u001b[0m\u001b[0m\n\u001b[0m",
            "\u001b[0;31mTypeError\u001b[0m: 'tuple' object does not support item assignment"
          ]
        }
      ]
    },
    {
      "cell_type": "code",
      "metadata": {
        "colab": {
          "base_uri": "https://localhost:8080/",
          "height": 166
        },
        "id": "ShA4YAa4DvTC",
        "outputId": "f5cb1e04-1798-4424-fc3b-2c60ec0cc2bf"
      },
      "source": [
        "t.append('nope')"
      ],
      "execution_count": 9,
      "outputs": [
        {
          "output_type": "error",
          "ename": "AttributeError",
          "evalue": "ignored",
          "traceback": [
            "\u001b[0;31m---------------------------------------------------------------------------\u001b[0m",
            "\u001b[0;31mAttributeError\u001b[0m                            Traceback (most recent call last)",
            "\u001b[0;32m<ipython-input-9-b75f5b09ac19>\u001b[0m in \u001b[0;36m<module>\u001b[0;34m()\u001b[0m\n\u001b[0;32m----> 1\u001b[0;31m \u001b[0mt\u001b[0m\u001b[0;34m.\u001b[0m\u001b[0mappend\u001b[0m\u001b[0;34m(\u001b[0m\u001b[0;34m'nope'\u001b[0m\u001b[0;34m)\u001b[0m\u001b[0;34m\u001b[0m\u001b[0;34m\u001b[0m\u001b[0m\n\u001b[0m",
            "\u001b[0;31mAttributeError\u001b[0m: 'tuple' object has no attribute 'append'"
          ]
        }
      ]
    },
    {
      "cell_type": "markdown",
      "metadata": {
        "id": "GoP9GBJMIrex"
      },
      "source": [
        "**sets**"
      ]
    },
    {
      "cell_type": "code",
      "metadata": {
        "id": "Cx7cgb6MDxwx"
      },
      "source": [
        "x = set()"
      ],
      "execution_count": 10,
      "outputs": []
    },
    {
      "cell_type": "code",
      "metadata": {
        "id": "bSZKwJrnD0L1"
      },
      "source": [
        "# We add to sets with the add() method\r\n",
        "x.add(1)"
      ],
      "execution_count": 11,
      "outputs": []
    },
    {
      "cell_type": "code",
      "metadata": {
        "colab": {
          "base_uri": "https://localhost:8080/"
        },
        "id": "korc6W55D1eX",
        "outputId": "155fbf1a-4b3e-4f92-8d4c-9fafe56cb012"
      },
      "source": [
        "#Show\r\n",
        "x"
      ],
      "execution_count": 12,
      "outputs": [
        {
          "output_type": "execute_result",
          "data": {
            "text/plain": [
              "{1}"
            ]
          },
          "metadata": {
            "tags": []
          },
          "execution_count": 12
        }
      ]
    },
    {
      "cell_type": "code",
      "metadata": {
        "id": "QU3oVz21D3Cp"
      },
      "source": [
        "# Add a different element\r\n",
        "x.add(2)"
      ],
      "execution_count": 13,
      "outputs": []
    },
    {
      "cell_type": "code",
      "metadata": {
        "colab": {
          "base_uri": "https://localhost:8080/"
        },
        "id": "xZRifgYxD5vs",
        "outputId": "4a82d054-4454-4b04-b696-bcf30b034d6e"
      },
      "source": [
        "#Show\r\n",
        "x"
      ],
      "execution_count": 14,
      "outputs": [
        {
          "output_type": "execute_result",
          "data": {
            "text/plain": [
              "{1, 2}"
            ]
          },
          "metadata": {
            "tags": []
          },
          "execution_count": 14
        }
      ]
    },
    {
      "cell_type": "code",
      "metadata": {
        "id": "ZkcjKuKCD7Nv"
      },
      "source": [
        "# Try to add the same element\r\n",
        "x.add(1)"
      ],
      "execution_count": 15,
      "outputs": []
    },
    {
      "cell_type": "code",
      "metadata": {
        "colab": {
          "base_uri": "https://localhost:8080/"
        },
        "id": "w-TB1sn1D81X",
        "outputId": "86c398c7-63ff-4623-91f2-3a0147778cb1"
      },
      "source": [
        "#Show\r\n",
        "x"
      ],
      "execution_count": 16,
      "outputs": [
        {
          "output_type": "execute_result",
          "data": {
            "text/plain": [
              "{1, 2}"
            ]
          },
          "metadata": {
            "tags": []
          },
          "execution_count": 16
        }
      ]
    },
    {
      "cell_type": "code",
      "metadata": {
        "id": "6DIKdHJyD-O9"
      },
      "source": [
        "# Create a list with repeats\r\n",
        "l = [1,1,2,2,3,4,5,6,1,1]"
      ],
      "execution_count": 17,
      "outputs": []
    },
    {
      "cell_type": "code",
      "metadata": {
        "colab": {
          "base_uri": "https://localhost:8080/"
        },
        "id": "eMcPUVqlEASL",
        "outputId": "9d5e0263-cbde-424e-a54b-140a6e41b80a"
      },
      "source": [
        "# Cast as set to get unique values\r\n",
        "set(l)"
      ],
      "execution_count": 18,
      "outputs": [
        {
          "output_type": "execute_result",
          "data": {
            "text/plain": [
              "{1, 2, 3, 4, 5, 6}"
            ]
          },
          "metadata": {
            "tags": []
          },
          "execution_count": 18
        }
      ]
    },
    {
      "cell_type": "markdown",
      "metadata": {
        "id": "IFRE6daSIjp5"
      },
      "source": [
        "**constructing a dictionary**"
      ]
    },
    {
      "cell_type": "code",
      "metadata": {
        "id": "iYJV43wKEChb"
      },
      "source": [
        "# Make a dictionary with {} and : to signify a key and a value\r\n",
        "my_dict = {'key1':'value1','key2':'value2'}"
      ],
      "execution_count": 19,
      "outputs": []
    },
    {
      "cell_type": "code",
      "metadata": {
        "colab": {
          "base_uri": "https://localhost:8080/",
          "height": 35
        },
        "id": "Stgf53t6EIWn",
        "outputId": "fb9b0379-b523-4743-d240-9d49cae764bb"
      },
      "source": [
        "# Call values by their key\r\n",
        "my_dict['key2']"
      ],
      "execution_count": 20,
      "outputs": [
        {
          "output_type": "execute_result",
          "data": {
            "application/vnd.google.colaboratory.intrinsic+json": {
              "type": "string"
            },
            "text/plain": [
              "'value2'"
            ]
          },
          "metadata": {
            "tags": []
          },
          "execution_count": 20
        }
      ]
    },
    {
      "cell_type": "code",
      "metadata": {
        "id": "jf6xKOFPEJzC"
      },
      "source": [
        "my_dict = {'key1':123,'key2':[12,23,33],'key3':['item0','item1','item2']}"
      ],
      "execution_count": 21,
      "outputs": []
    },
    {
      "cell_type": "code",
      "metadata": {
        "colab": {
          "base_uri": "https://localhost:8080/"
        },
        "id": "GYcoUKj6EMCR",
        "outputId": "3883df5a-465b-4489-9981-8ae2cd9c8cfe"
      },
      "source": [
        "#Let's call items from the dictionary\r\n",
        "my_dict['key3']"
      ],
      "execution_count": 22,
      "outputs": [
        {
          "output_type": "execute_result",
          "data": {
            "text/plain": [
              "['item0', 'item1', 'item2']"
            ]
          },
          "metadata": {
            "tags": []
          },
          "execution_count": 22
        }
      ]
    },
    {
      "cell_type": "code",
      "metadata": {
        "colab": {
          "base_uri": "https://localhost:8080/",
          "height": 35
        },
        "id": "W8wmMKw2ENjF",
        "outputId": "53da11f4-6718-47f1-b7f2-02ff2b85c940"
      },
      "source": [
        "# Can call an index on that value\r\n",
        "my_dict['key3'][0]"
      ],
      "execution_count": 23,
      "outputs": [
        {
          "output_type": "execute_result",
          "data": {
            "application/vnd.google.colaboratory.intrinsic+json": {
              "type": "string"
            },
            "text/plain": [
              "'item0'"
            ]
          },
          "metadata": {
            "tags": []
          },
          "execution_count": 23
        }
      ]
    },
    {
      "cell_type": "code",
      "metadata": {
        "colab": {
          "base_uri": "https://localhost:8080/",
          "height": 35
        },
        "id": "8vPltP-GEPIw",
        "outputId": "b0a5f60f-13d2-4005-e8cc-a27fbefeccc2"
      },
      "source": [
        "#Can then even call methods on that value\r\n",
        "my_dict['key3'][0].upper()"
      ],
      "execution_count": 24,
      "outputs": [
        {
          "output_type": "execute_result",
          "data": {
            "application/vnd.google.colaboratory.intrinsic+json": {
              "type": "string"
            },
            "text/plain": [
              "'ITEM0'"
            ]
          },
          "metadata": {
            "tags": []
          },
          "execution_count": 24
        }
      ]
    },
    {
      "cell_type": "code",
      "metadata": {
        "colab": {
          "base_uri": "https://localhost:8080/"
        },
        "id": "szMWsj9rEQhk",
        "outputId": "5faf6e9d-9f41-440c-dd46-0575b4e85eaf"
      },
      "source": [
        "my_dict['key1']"
      ],
      "execution_count": 25,
      "outputs": [
        {
          "output_type": "execute_result",
          "data": {
            "text/plain": [
              "123"
            ]
          },
          "metadata": {
            "tags": []
          },
          "execution_count": 25
        }
      ]
    },
    {
      "cell_type": "code",
      "metadata": {
        "id": "XmF-5ztiESaD"
      },
      "source": [
        "# Subtract 123 from the value\r\n",
        "my_dict['key1'] = my_dict['key1'] - 123"
      ],
      "execution_count": 26,
      "outputs": []
    },
    {
      "cell_type": "code",
      "metadata": {
        "colab": {
          "base_uri": "https://localhost:8080/"
        },
        "id": "ZLUlgHAFEUbz",
        "outputId": "c7f238c8-bc8e-4e3e-e2e4-3e46b936237a"
      },
      "source": [
        "#Check\r\n",
        "my_dict['key1']"
      ],
      "execution_count": 27,
      "outputs": [
        {
          "output_type": "execute_result",
          "data": {
            "text/plain": [
              "0"
            ]
          },
          "metadata": {
            "tags": []
          },
          "execution_count": 27
        }
      ]
    },
    {
      "cell_type": "code",
      "metadata": {
        "colab": {
          "base_uri": "https://localhost:8080/"
        },
        "id": "uC1ruhieEWDg",
        "outputId": "5fe84d72-c15d-4311-eb25-03d4e0708ec7"
      },
      "source": [
        "# Set the object equal to itself minus 123 \r\n",
        "my_dict['key1'] -= 123\r\n",
        "my_dict['key1']"
      ],
      "execution_count": 28,
      "outputs": [
        {
          "output_type": "execute_result",
          "data": {
            "text/plain": [
              "-123"
            ]
          },
          "metadata": {
            "tags": []
          },
          "execution_count": 28
        }
      ]
    },
    {
      "cell_type": "code",
      "metadata": {
        "id": "ftIzRC_UEX4A"
      },
      "source": [
        "# Create a new dictionary\r\n",
        "d = {}"
      ],
      "execution_count": 29,
      "outputs": []
    },
    {
      "cell_type": "code",
      "metadata": {
        "id": "ROtCQdbxEZtq"
      },
      "source": [
        "# Create a new key through assignment\r\n",
        "d['animal'] = 'Dog'"
      ],
      "execution_count": 30,
      "outputs": []
    },
    {
      "cell_type": "code",
      "metadata": {
        "id": "OoDUv999EbI5"
      },
      "source": [
        "# Can do this with any object\r\n",
        "d['answer'] = 42"
      ],
      "execution_count": 31,
      "outputs": []
    },
    {
      "cell_type": "code",
      "metadata": {
        "colab": {
          "base_uri": "https://localhost:8080/"
        },
        "id": "S_e2-7pAEcwH",
        "outputId": "672d2889-f17f-46a3-f78e-aab15acb7120"
      },
      "source": [
        "#Show\r\n",
        "d"
      ],
      "execution_count": 32,
      "outputs": [
        {
          "output_type": "execute_result",
          "data": {
            "text/plain": [
              "{'animal': 'Dog', 'answer': 42}"
            ]
          },
          "metadata": {
            "tags": []
          },
          "execution_count": 32
        }
      ]
    },
    {
      "cell_type": "markdown",
      "metadata": {
        "id": "J2dK3ZvmIb1-"
      },
      "source": [
        "**nesting with dictionaries**"
      ]
    },
    {
      "cell_type": "code",
      "metadata": {
        "id": "1Ms8ELldEef2"
      },
      "source": [
        "# Dictionary nested inside a dictionary nested in side a dictionary\r\n",
        "d = {'key1':{'nestkey':{'subnestkey':'value'}}}"
      ],
      "execution_count": 33,
      "outputs": []
    },
    {
      "cell_type": "code",
      "metadata": {
        "colab": {
          "base_uri": "https://localhost:8080/",
          "height": 35
        },
        "id": "5WMH4EtgEnSY",
        "outputId": "3fda7192-0127-4570-fdb0-94cee6dcc52e"
      },
      "source": [
        "# Keep calling the keys\r\n",
        "d['key1']['nestkey']['subnestkey']"
      ],
      "execution_count": 34,
      "outputs": [
        {
          "output_type": "execute_result",
          "data": {
            "application/vnd.google.colaboratory.intrinsic+json": {
              "type": "string"
            },
            "text/plain": [
              "'value'"
            ]
          },
          "metadata": {
            "tags": []
          },
          "execution_count": 34
        }
      ]
    },
    {
      "cell_type": "markdown",
      "metadata": {
        "id": "kt1YAOK1IWHX"
      },
      "source": [
        "**a few dictionary methods**"
      ]
    },
    {
      "cell_type": "code",
      "metadata": {
        "id": "a_4_JT8oEpJJ"
      },
      "source": [
        "# Create a typical dictionary\r\n",
        "d = {'key1':1,'key2':2,'key3':3}"
      ],
      "execution_count": 35,
      "outputs": []
    },
    {
      "cell_type": "code",
      "metadata": {
        "colab": {
          "base_uri": "https://localhost:8080/"
        },
        "id": "XdWA1TuyEttD",
        "outputId": "419576f6-dc12-479c-a7ba-c4f8193016a3"
      },
      "source": [
        "# Method to return a list of all keys \r\n",
        "d.keys()"
      ],
      "execution_count": 36,
      "outputs": [
        {
          "output_type": "execute_result",
          "data": {
            "text/plain": [
              "dict_keys(['key1', 'key2', 'key3'])"
            ]
          },
          "metadata": {
            "tags": []
          },
          "execution_count": 36
        }
      ]
    },
    {
      "cell_type": "code",
      "metadata": {
        "colab": {
          "base_uri": "https://localhost:8080/"
        },
        "id": "pvkXeDf2EvEh",
        "outputId": "be780b5b-5f30-4eb5-ed44-ee36c0efc6be"
      },
      "source": [
        "# Method to grab all values\r\n",
        "d.values()"
      ],
      "execution_count": 37,
      "outputs": [
        {
          "output_type": "execute_result",
          "data": {
            "text/plain": [
              "dict_values([1, 2, 3])"
            ]
          },
          "metadata": {
            "tags": []
          },
          "execution_count": 37
        }
      ]
    },
    {
      "cell_type": "code",
      "metadata": {
        "colab": {
          "base_uri": "https://localhost:8080/"
        },
        "id": "Y-JDqDMpEwdT",
        "outputId": "4b33d79b-5180-4ef6-f696-7b64dc69abe5"
      },
      "source": [
        "# Method to return tuples of all items  (we'll learn about tuples soon)\r\n",
        "d.items()"
      ],
      "execution_count": 38,
      "outputs": [
        {
          "output_type": "execute_result",
          "data": {
            "text/plain": [
              "dict_items([('key1', 1), ('key2', 2), ('key3', 3)])"
            ]
          },
          "metadata": {
            "tags": []
          },
          "execution_count": 38
        }
      ]
    },
    {
      "cell_type": "markdown",
      "metadata": {
        "id": "RMuM5xGRIOFV"
      },
      "source": [
        "**dictionary comprehensions**"
      ]
    },
    {
      "cell_type": "code",
      "metadata": {
        "colab": {
          "base_uri": "https://localhost:8080/"
        },
        "id": "MHcZkgjfEyI3",
        "outputId": "7d703aa1-9511-455d-ae90-83654bc9f596"
      },
      "source": [
        "print(list(range(10)))"
      ],
      "execution_count": 39,
      "outputs": [
        {
          "output_type": "stream",
          "text": [
            "[0, 1, 2, 3, 4, 5, 6, 7, 8, 9]\n"
          ],
          "name": "stdout"
        }
      ]
    },
    {
      "cell_type": "code",
      "metadata": {
        "colab": {
          "base_uri": "https://localhost:8080/"
        },
        "id": "Z95kZ78yE0ga",
        "outputId": "4a574b7c-07b4-4e69-8f10-14bcd2719a6d"
      },
      "source": [
        "{x:x**2 for x in range(10)}"
      ],
      "execution_count": 40,
      "outputs": [
        {
          "output_type": "execute_result",
          "data": {
            "text/plain": [
              "{0: 0, 1: 1, 2: 4, 3: 9, 4: 16, 5: 25, 6: 36, 7: 49, 8: 64, 9: 81}"
            ]
          },
          "metadata": {
            "tags": []
          },
          "execution_count": 40
        }
      ]
    },
    {
      "cell_type": "markdown",
      "metadata": {
        "id": "O9RAiTBTIGC7"
      },
      "source": [
        "**def statements**"
      ]
    },
    {
      "cell_type": "code",
      "metadata": {
        "id": "hwNzA5xlE2Ak"
      },
      "source": [
        "def name_of_function(arg1,arg2):\r\n",
        "    \r\n",
        "    '''\r\n",
        "    This is where the function's Document String (doc-string) goes\r\n",
        "    '''\r\n",
        "    # Do stuff here\r\n",
        "    #return desired result"
      ],
      "execution_count": 41,
      "outputs": []
    },
    {
      "cell_type": "code",
      "metadata": {
        "id": "SHvk-tZ_E6YG"
      },
      "source": [
        "def say_hello():\r\n",
        "    print('hello')"
      ],
      "execution_count": 42,
      "outputs": []
    },
    {
      "cell_type": "code",
      "metadata": {
        "colab": {
          "base_uri": "https://localhost:8080/"
        },
        "id": "xtgwif1PE-8b",
        "outputId": "006fc27e-78c7-4cf0-af35-1761bb32aaec"
      },
      "source": [
        "say_hello()"
      ],
      "execution_count": 43,
      "outputs": [
        {
          "output_type": "stream",
          "text": [
            "hello\n"
          ],
          "name": "stdout"
        }
      ]
    },
    {
      "cell_type": "code",
      "metadata": {
        "id": "TSjBmH5XFA3b"
      },
      "source": [
        "def greeting(name):\r\n",
        "    print('Hello %s' %name)\r\n",
        "    print('how are you doing %s'%name)"
      ],
      "execution_count": 44,
      "outputs": []
    },
    {
      "cell_type": "code",
      "metadata": {
        "colab": {
          "base_uri": "https://localhost:8080/"
        },
        "id": "5g8FBzwQFDAr",
        "outputId": "5d895ee4-2710-4274-e64a-82a129e07393"
      },
      "source": [
        "greeting('khushi')"
      ],
      "execution_count": 85,
      "outputs": [
        {
          "output_type": "stream",
          "text": [
            "Hello khushi\n",
            "how are you doing khushi\n"
          ],
          "name": "stdout"
        }
      ]
    },
    {
      "cell_type": "markdown",
      "metadata": {
        "id": "4Q9jzcVIIAk-"
      },
      "source": [
        "**using return**"
      ]
    },
    {
      "cell_type": "code",
      "metadata": {
        "id": "kG6XgC4FFEZ1"
      },
      "source": [
        "def add_num(num1,num2):\r\n",
        "    return num1+num2"
      ],
      "execution_count": 46,
      "outputs": []
    },
    {
      "cell_type": "code",
      "metadata": {
        "colab": {
          "base_uri": "https://localhost:8080/"
        },
        "id": "CIERFZ6kFHOG",
        "outputId": "a5720804-d456-43f9-db78-eb400e97b99b"
      },
      "source": [
        "add_num(4,5)"
      ],
      "execution_count": 47,
      "outputs": [
        {
          "output_type": "execute_result",
          "data": {
            "text/plain": [
              "9"
            ]
          },
          "metadata": {
            "tags": []
          },
          "execution_count": 47
        }
      ]
    },
    {
      "cell_type": "code",
      "metadata": {
        "id": "xGqcift1FIrX"
      },
      "source": [
        "# Can also save as variable due to return\r\n",
        "result = add_num(4,5)"
      ],
      "execution_count": 48,
      "outputs": []
    },
    {
      "cell_type": "code",
      "metadata": {
        "colab": {
          "base_uri": "https://localhost:8080/"
        },
        "id": "SHaoIEq9FKVR",
        "outputId": "2cc5d21b-0535-4eeb-94cd-0b6fc2e4ac35"
      },
      "source": [
        "print(result)"
      ],
      "execution_count": 49,
      "outputs": [
        {
          "output_type": "stream",
          "text": [
            "9\n"
          ],
          "name": "stdout"
        }
      ]
    },
    {
      "cell_type": "code",
      "metadata": {
        "colab": {
          "base_uri": "https://localhost:8080/"
        },
        "id": "K5mXyvviFL6Z",
        "outputId": "168b9b90-f457-4c29-8299-c56209653819"
      },
      "source": [
        "print(add_num('one\\t','two'))"
      ],
      "execution_count": 50,
      "outputs": [
        {
          "output_type": "stream",
          "text": [
            "one\ttwo\n"
          ],
          "name": "stdout"
        }
      ]
    },
    {
      "cell_type": "code",
      "metadata": {
        "id": "SNoTEuO1FNon"
      },
      "source": [
        "def is_prime(num):\r\n",
        "    '''\r\n",
        "    Naive method of checking for primes. \r\n",
        "    '''\r\n",
        "    for n in range(2,num):\r\n",
        "        if num % n == 0:\r\n",
        "            print('not prime')\r\n",
        "            break\r\n",
        "    else: # If never mod zero, then prime\r\n",
        "        print('prime')"
      ],
      "execution_count": 51,
      "outputs": []
    },
    {
      "cell_type": "code",
      "metadata": {
        "colab": {
          "base_uri": "https://localhost:8080/"
        },
        "id": "wNBdYEauFP_l",
        "outputId": "bdc7efe5-a0b8-4362-9115-1014457b2607"
      },
      "source": [
        "is_prime(11)"
      ],
      "execution_count": 52,
      "outputs": [
        {
          "output_type": "stream",
          "text": [
            "prime\n"
          ],
          "name": "stdout"
        }
      ]
    },
    {
      "cell_type": "code",
      "metadata": {
        "id": "xe65gw2JFRil"
      },
      "source": [
        "import math\r\n",
        "\r\n",
        "def is_prime(num):\r\n",
        "    '''\r\n",
        "    A Better method of checking for primes. \r\n",
        "    '''\r\n",
        "    if num % 2 == 0 and num > 2: \r\n",
        "        return False\r\n",
        "    for i in range(3, int(math.sqrt(num)) + 1, 2):\r\n",
        "        if num % i == 0:\r\n",
        "            return False\r\n",
        "    return True"
      ],
      "execution_count": 53,
      "outputs": []
    },
    {
      "cell_type": "code",
      "metadata": {
        "id": "ceaG_h7HFasL"
      },
      "source": [
        ""
      ],
      "execution_count": 53,
      "outputs": []
    },
    {
      "cell_type": "code",
      "metadata": {
        "colab": {
          "base_uri": "https://localhost:8080/"
        },
        "id": "L-8HgfWkFfuW",
        "outputId": "17c77b09-cb2e-42e7-fdb6-51572b9c7222"
      },
      "source": [
        "is_prime(11)"
      ],
      "execution_count": 54,
      "outputs": [
        {
          "output_type": "execute_result",
          "data": {
            "text/plain": [
              "True"
            ]
          },
          "metadata": {
            "tags": []
          },
          "execution_count": 54
        }
      ]
    },
    {
      "cell_type": "markdown",
      "metadata": {
        "id": "qThVsCumH3ux"
      },
      "source": [
        "**iterator and generators**"
      ]
    },
    {
      "cell_type": "code",
      "metadata": {
        "id": "iuIRDdUzFgX6"
      },
      "source": [
        "# Generator function for the cube of numbers (power of 3)\r\n",
        "def gencubes(n):\r\n",
        "    for num in range(n):\r\n",
        "        yield num**3"
      ],
      "execution_count": 55,
      "outputs": []
    },
    {
      "cell_type": "code",
      "metadata": {
        "colab": {
          "base_uri": "https://localhost:8080/"
        },
        "id": "n9po35tYGCol",
        "outputId": "11dc9440-e99d-4bed-bda3-487e1e376c24"
      },
      "source": [
        "for x in gencubes(6):\r\n",
        "    print(x)"
      ],
      "execution_count": 56,
      "outputs": [
        {
          "output_type": "stream",
          "text": [
            "0\n",
            "1\n",
            "8\n",
            "27\n",
            "64\n",
            "125\n"
          ],
          "name": "stdout"
        }
      ]
    },
    {
      "cell_type": "code",
      "metadata": {
        "id": "tfUyXsv1GET-"
      },
      "source": [
        "def genfibon(n):\r\n",
        "    '''\r\n",
        "    Generate a fibonacci sequence up to n\r\n",
        "    '''\r\n",
        "    a = 1\r\n",
        "    b = 1\r\n",
        "    for i in range(n):\r\n",
        "        yield a\r\n",
        "        a,b = b,a+b"
      ],
      "execution_count": 57,
      "outputs": []
    },
    {
      "cell_type": "code",
      "metadata": {
        "colab": {
          "base_uri": "https://localhost:8080/"
        },
        "id": "F-Bab4_iGGyq",
        "outputId": "5a4d3955-c70e-48e4-ddf7-4612a5b99895"
      },
      "source": [
        "for num in genfibon(10):\r\n",
        "    print(num)"
      ],
      "execution_count": 58,
      "outputs": [
        {
          "output_type": "stream",
          "text": [
            "1\n",
            "1\n",
            "2\n",
            "3\n",
            "5\n",
            "8\n",
            "13\n",
            "21\n",
            "34\n",
            "55\n"
          ],
          "name": "stdout"
        }
      ]
    },
    {
      "cell_type": "code",
      "metadata": {
        "id": "H20LtSRTGIom"
      },
      "source": [
        "def fibon(n):\r\n",
        "    a = 1\r\n",
        "    b = 1\r\n",
        "    output = []\r\n",
        "    \r\n",
        "    for i in range(n):\r\n",
        "        output.append(a)\r\n",
        "        a,b = b,a+b\r\n",
        "        \r\n",
        "    return output"
      ],
      "execution_count": 59,
      "outputs": []
    },
    {
      "cell_type": "code",
      "metadata": {
        "colab": {
          "base_uri": "https://localhost:8080/"
        },
        "id": "fRA3V2AWGLXJ",
        "outputId": "726302c0-7db2-4b4a-bf47-11e35524f0cf"
      },
      "source": [
        "fibon(10)"
      ],
      "execution_count": 60,
      "outputs": [
        {
          "output_type": "execute_result",
          "data": {
            "text/plain": [
              "[1, 1, 2, 3, 5, 8, 13, 21, 34, 55]"
            ]
          },
          "metadata": {
            "tags": []
          },
          "execution_count": 60
        }
      ]
    },
    {
      "cell_type": "markdown",
      "metadata": {
        "id": "Qc43XDCXHjT4"
      },
      "source": [
        "**next() and iter() built-in functions**"
      ]
    },
    {
      "cell_type": "code",
      "metadata": {
        "colab": {
          "base_uri": "https://localhost:8080/"
        },
        "id": "45E5q4mZGNJ1",
        "outputId": "0a0c01a9-7273-421c-f5c3-cf6ed0ea9a78"
      },
      "source": [
        "print(list(range(3)))"
      ],
      "execution_count": 61,
      "outputs": [
        {
          "output_type": "stream",
          "text": [
            "[0, 1, 2]\n"
          ],
          "name": "stdout"
        }
      ]
    },
    {
      "cell_type": "code",
      "metadata": {
        "id": "DaY-X35NGQVb"
      },
      "source": [
        "def simple_gen():\r\n",
        "    for x in range(3):\r\n",
        "        yield x"
      ],
      "execution_count": 62,
      "outputs": []
    },
    {
      "cell_type": "code",
      "metadata": {
        "id": "f_gfFxIQGR7P"
      },
      "source": [
        "# Assign simple_gen \r\n",
        "g = simple_gen()"
      ],
      "execution_count": 63,
      "outputs": []
    },
    {
      "cell_type": "code",
      "metadata": {
        "colab": {
          "base_uri": "https://localhost:8080/"
        },
        "id": "dVk9On1wGTl6",
        "outputId": "80c18823-7c20-4fc9-b2f4-f6dac62d0f81"
      },
      "source": [
        "print(next(g))"
      ],
      "execution_count": 64,
      "outputs": [
        {
          "output_type": "stream",
          "text": [
            "0\n"
          ],
          "name": "stdout"
        }
      ]
    },
    {
      "cell_type": "code",
      "metadata": {
        "colab": {
          "base_uri": "https://localhost:8080/"
        },
        "id": "AccDEGHjGVS8",
        "outputId": "7e08bc3d-be58-46c4-c7d6-84801c1194b8"
      },
      "source": [
        "print(next(g))"
      ],
      "execution_count": 65,
      "outputs": [
        {
          "output_type": "stream",
          "text": [
            "1\n"
          ],
          "name": "stdout"
        }
      ]
    },
    {
      "cell_type": "code",
      "metadata": {
        "colab": {
          "base_uri": "https://localhost:8080/"
        },
        "id": "NZVp5P0bGWun",
        "outputId": "6289902e-b840-4294-d828-b8db35467df9"
      },
      "source": [
        "print(next(g))"
      ],
      "execution_count": 66,
      "outputs": [
        {
          "output_type": "stream",
          "text": [
            "2\n"
          ],
          "name": "stdout"
        }
      ]
    },
    {
      "cell_type": "code",
      "metadata": {
        "colab": {
          "base_uri": "https://localhost:8080/",
          "height": 166
        },
        "id": "E6E-rNtvGZFy",
        "outputId": "a283b47b-379f-4052-c8e5-4a00c2aea08d"
      },
      "source": [
        "print(next(g))"
      ],
      "execution_count": 67,
      "outputs": [
        {
          "output_type": "error",
          "ename": "StopIteration",
          "evalue": "ignored",
          "traceback": [
            "\u001b[0;31m---------------------------------------------------------------------------\u001b[0m",
            "\u001b[0;31mStopIteration\u001b[0m                             Traceback (most recent call last)",
            "\u001b[0;32m<ipython-input-67-1dfb29d6357e>\u001b[0m in \u001b[0;36m<module>\u001b[0;34m()\u001b[0m\n\u001b[0;32m----> 1\u001b[0;31m \u001b[0mprint\u001b[0m\u001b[0;34m(\u001b[0m\u001b[0mnext\u001b[0m\u001b[0;34m(\u001b[0m\u001b[0mg\u001b[0m\u001b[0;34m)\u001b[0m\u001b[0;34m)\u001b[0m\u001b[0;34m\u001b[0m\u001b[0;34m\u001b[0m\u001b[0m\n\u001b[0m",
            "\u001b[0;31mStopIteration\u001b[0m: "
          ]
        }
      ]
    },
    {
      "cell_type": "code",
      "metadata": {
        "colab": {
          "base_uri": "https://localhost:8080/"
        },
        "id": "mLsc4MMqGapP",
        "outputId": "4d26d3fd-a840-4771-b9e8-451ce02bae0b"
      },
      "source": [
        "s = 'khushi'\r\n",
        "\r\n",
        "#Iterate over string\r\n",
        "for i in s:\r\n",
        "    print(i)"
      ],
      "execution_count": 86,
      "outputs": [
        {
          "output_type": "stream",
          "text": [
            "k\n",
            "h\n",
            "u\n",
            "s\n",
            "h\n",
            "i\n"
          ],
          "name": "stdout"
        }
      ]
    },
    {
      "cell_type": "code",
      "metadata": {
        "colab": {
          "base_uri": "https://localhost:8080/",
          "height": 166
        },
        "id": "eFb3UiZ0Gc6o",
        "outputId": "a2bff238-4993-4876-e73a-042b73f51c64"
      },
      "source": [
        "next(s)"
      ],
      "execution_count": 87,
      "outputs": [
        {
          "output_type": "error",
          "ename": "TypeError",
          "evalue": "ignored",
          "traceback": [
            "\u001b[0;31m---------------------------------------------------------------------------\u001b[0m",
            "\u001b[0;31mTypeError\u001b[0m                                 Traceback (most recent call last)",
            "\u001b[0;32m<ipython-input-87-61c30b5fe1d5>\u001b[0m in \u001b[0;36m<module>\u001b[0;34m()\u001b[0m\n\u001b[0;32m----> 1\u001b[0;31m \u001b[0mnext\u001b[0m\u001b[0;34m(\u001b[0m\u001b[0ms\u001b[0m\u001b[0;34m)\u001b[0m\u001b[0;34m\u001b[0m\u001b[0;34m\u001b[0m\u001b[0m\n\u001b[0m",
            "\u001b[0;31mTypeError\u001b[0m: 'str' object is not an iterator"
          ]
        }
      ]
    },
    {
      "cell_type": "code",
      "metadata": {
        "id": "kLA0zN6LGeyH"
      },
      "source": [
        "s_iter = iter(s)"
      ],
      "execution_count": 88,
      "outputs": []
    },
    {
      "cell_type": "code",
      "metadata": {
        "colab": {
          "base_uri": "https://localhost:8080/",
          "height": 35
        },
        "id": "K2hiuwuLGgs9",
        "outputId": "669977b7-2581-4861-8db4-24d2b755f870"
      },
      "source": [
        "next(s_iter)"
      ],
      "execution_count": 89,
      "outputs": [
        {
          "output_type": "execute_result",
          "data": {
            "application/vnd.google.colaboratory.intrinsic+json": {
              "type": "string"
            },
            "text/plain": [
              "'k'"
            ]
          },
          "metadata": {
            "tags": []
          },
          "execution_count": 89
        }
      ]
    },
    {
      "cell_type": "code",
      "metadata": {
        "colab": {
          "base_uri": "https://localhost:8080/",
          "height": 35
        },
        "id": "IcLxVFVUGiE-",
        "outputId": "e9d0ad48-3ad0-4766-c8c0-2e40114e31c5"
      },
      "source": [
        "next(s_iter)"
      ],
      "execution_count": 90,
      "outputs": [
        {
          "output_type": "execute_result",
          "data": {
            "application/vnd.google.colaboratory.intrinsic+json": {
              "type": "string"
            },
            "text/plain": [
              "'h'"
            ]
          },
          "metadata": {
            "tags": []
          },
          "execution_count": 90
        }
      ]
    },
    {
      "cell_type": "markdown",
      "metadata": {
        "id": "uIhW3xYbHRQ4"
      },
      "source": [
        "**map()**"
      ]
    },
    {
      "cell_type": "code",
      "metadata": {
        "id": "_ia6QuueGjlg"
      },
      "source": [
        "def fahrenheit(T):\r\n",
        "    return ((float(9)/5)*T + 32)\r\n",
        "def celsius(T):\r\n",
        "    return (float(5)/9)*(T-32)\r\n",
        "    \r\n",
        "temp = [0, 22.5, 40,100]"
      ],
      "execution_count": 73,
      "outputs": []
    },
    {
      "cell_type": "code",
      "metadata": {
        "colab": {
          "base_uri": "https://localhost:8080/"
        },
        "id": "m2Ca0wHpGmJ-",
        "outputId": "e4bc844e-8e05-47db-a18f-bdc88751c1b4"
      },
      "source": [
        "F_temps = list(map(fahrenheit, temp))\r\n",
        "\r\n",
        "#Show\r\n",
        "F_temps"
      ],
      "execution_count": 74,
      "outputs": [
        {
          "output_type": "execute_result",
          "data": {
            "text/plain": [
              "[32.0, 72.5, 104.0, 212.0]"
            ]
          },
          "metadata": {
            "tags": []
          },
          "execution_count": 74
        }
      ]
    },
    {
      "cell_type": "code",
      "metadata": {
        "colab": {
          "base_uri": "https://localhost:8080/"
        },
        "id": "Hd4inKxDGo3x",
        "outputId": "1805ece0-bc23-49dc-d315-160ee45d5f13"
      },
      "source": [
        "# Convert back\r\n",
        "list(map(celsius, F_temps))"
      ],
      "execution_count": 75,
      "outputs": [
        {
          "output_type": "execute_result",
          "data": {
            "text/plain": [
              "[0.0, 22.5, 40.0, 100.0]"
            ]
          },
          "metadata": {
            "tags": []
          },
          "execution_count": 75
        }
      ]
    },
    {
      "cell_type": "code",
      "metadata": {
        "colab": {
          "base_uri": "https://localhost:8080/"
        },
        "id": "z6Fu4FxaGrAz",
        "outputId": "e3c3287d-309d-4c74-af5d-325d83c5ce3a"
      },
      "source": [
        "list(map(lambda x: (5.0/9)*(x - 32), F_temps))"
      ],
      "execution_count": 76,
      "outputs": [
        {
          "output_type": "execute_result",
          "data": {
            "text/plain": [
              "[0.0, 22.5, 40.0, 100.0]"
            ]
          },
          "metadata": {
            "tags": []
          },
          "execution_count": 76
        }
      ]
    },
    {
      "cell_type": "code",
      "metadata": {
        "colab": {
          "base_uri": "https://localhost:8080/"
        },
        "id": "77qrJAK4GtHK",
        "outputId": "c6ca8a1e-b10a-4399-f5c0-c6bda7c2ebdc"
      },
      "source": [
        "a = [1,2,3,4]\r\n",
        "b = [5,6,7,8]\r\n",
        "c = [9,10,11,12]\r\n",
        "\r\n",
        "list(map(lambda x,y:x+y, a,b))"
      ],
      "execution_count": 77,
      "outputs": [
        {
          "output_type": "execute_result",
          "data": {
            "text/plain": [
              "[6, 8, 10, 12]"
            ]
          },
          "metadata": {
            "tags": []
          },
          "execution_count": 77
        }
      ]
    },
    {
      "cell_type": "code",
      "metadata": {
        "colab": {
          "base_uri": "https://localhost:8080/"
        },
        "id": "ZkAO3OM5Guxv",
        "outputId": "2c25bfba-1f90-4e12-e4ee-8726e831f4cf"
      },
      "source": [
        "# Now all three lists\r\n",
        "list(map(lambda x,y,z:x+y+z, a,b,c))"
      ],
      "execution_count": 78,
      "outputs": [
        {
          "output_type": "execute_result",
          "data": {
            "text/plain": [
              "[15, 18, 21, 24]"
            ]
          },
          "metadata": {
            "tags": []
          },
          "execution_count": 78
        }
      ]
    },
    {
      "cell_type": "markdown",
      "metadata": {
        "id": "cIhHRq2BHFYN"
      },
      "source": [
        "**reduce()**"
      ]
    },
    {
      "cell_type": "code",
      "metadata": {
        "colab": {
          "base_uri": "https://localhost:8080/"
        },
        "id": "I814KzuhGwoe",
        "outputId": "94bc4e32-465b-4809-fd07-0f6f26818dd2"
      },
      "source": [
        "from functools import reduce\r\n",
        "lst =[47,11,42,13]\r\n",
        "reduce(lambda x,y: x+y,lst)"
      ],
      "execution_count": 79,
      "outputs": [
        {
          "output_type": "execute_result",
          "data": {
            "text/plain": [
              "113"
            ]
          },
          "metadata": {
            "tags": []
          },
          "execution_count": 79
        }
      ]
    },
    {
      "cell_type": "code",
      "metadata": {
        "id": "EsHkHuerGzO7"
      },
      "source": [
        "#Find the maximum of a sequence (This already exists as max())\r\n",
        "max_find = lambda a,b: a if (a > b) else b"
      ],
      "execution_count": 80,
      "outputs": []
    },
    {
      "cell_type": "code",
      "metadata": {
        "colab": {
          "base_uri": "https://localhost:8080/"
        },
        "id": "8jgws2s4G1jb",
        "outputId": "68754add-6774-44e5-8db5-5f3ae7f0cbcb"
      },
      "source": [
        "#Find max\r\n",
        "print(lst)\r\n",
        "reduce(lambda a,b: a if (a > b) else b,lst)"
      ],
      "execution_count": 81,
      "outputs": [
        {
          "output_type": "stream",
          "text": [
            "[47, 11, 42, 13]\n"
          ],
          "name": "stdout"
        },
        {
          "output_type": "execute_result",
          "data": {
            "text/plain": [
              "47"
            ]
          },
          "metadata": {
            "tags": []
          },
          "execution_count": 81
        }
      ]
    },
    {
      "cell_type": "markdown",
      "metadata": {
        "id": "9Gmj5d0-HB6H"
      },
      "source": [
        "**filter**"
      ]
    },
    {
      "cell_type": "code",
      "metadata": {
        "id": "BRl1HLZMG3CW"
      },
      "source": [
        "#First let's make a function\r\n",
        "def even_check(num):\r\n",
        "    if num%2 ==0:\r\n",
        "        return True"
      ],
      "execution_count": 82,
      "outputs": []
    },
    {
      "cell_type": "code",
      "metadata": {
        "colab": {
          "base_uri": "https://localhost:8080/"
        },
        "id": "DIgOGvQZG6lj",
        "outputId": "d471fe2e-d5ec-4385-8eff-2a05222a093b"
      },
      "source": [
        "lst =range(20)\r\n",
        "print(list(lst))\r\n",
        "\r\n",
        "list(filter(even_check,lst))"
      ],
      "execution_count": 83,
      "outputs": [
        {
          "output_type": "stream",
          "text": [
            "[0, 1, 2, 3, 4, 5, 6, 7, 8, 9, 10, 11, 12, 13, 14, 15, 16, 17, 18, 19]\n"
          ],
          "name": "stdout"
        },
        {
          "output_type": "execute_result",
          "data": {
            "text/plain": [
              "[0, 2, 4, 6, 8, 10, 12, 14, 16, 18]"
            ]
          },
          "metadata": {
            "tags": []
          },
          "execution_count": 83
        }
      ]
    },
    {
      "cell_type": "code",
      "metadata": {
        "colab": {
          "base_uri": "https://localhost:8080/"
        },
        "id": "P45bTj8PG8H7",
        "outputId": "aa073323-9f47-4d0c-c0db-86bbd340ce1a"
      },
      "source": [
        "list(filter(lambda x: x%2==0,lst))"
      ],
      "execution_count": 84,
      "outputs": [
        {
          "output_type": "execute_result",
          "data": {
            "text/plain": [
              "[0, 2, 4, 6, 8, 10, 12, 14, 16, 18]"
            ]
          },
          "metadata": {
            "tags": []
          },
          "execution_count": 84
        }
      ]
    },
    {
      "cell_type": "code",
      "metadata": {
        "id": "H2RZ-N-9G926"
      },
      "source": [
        ""
      ],
      "execution_count": null,
      "outputs": []
    }
  ]
}